{
 "cells": [
  {
   "cell_type": "code",
   "execution_count": 7,
   "metadata": {
    "collapsed": false
   },
   "outputs": [],
   "source": [
    "import json\n",
    "from collections import defaultdict\n",
    "#from jieba import jieba\n",
    "#import matplotlib.pyplot as plt\n",
    "import numpy as np\n",
    "#import seaborn as sns\n",
    "#sns.set(style='whitegrid')\n",
    "\n",
    "# load ptt posts\n",
    "path = 'pttstock_preview.json'\n",
    "\n",
    "with open(path) as f:\n",
    "    posts = json.load(f, encoding=\"utf8\")\n",
    "    \n",
    "# get pushes\n",
    "\n",
    "total_comments = defaultdict(int)\n",
    "total_pushes = defaultdict(int)\n",
    "total_hates = defaultdict(int)\n",
    "\n",
    "for post in posts:\n",
    "    for comment in post['comments']:\n",
    "        user = comment['user']\n",
    "        total_comments[user] += 1\n",
    "\n",
    "        if comment['score'] > 0:\n",
    "            total_pushes[user] += 1\n",
    "\n",
    "        elif comment['score'] < 0:\n",
    "            total_hates[user] += 1"
   ]
  },
  {
   "cell_type": "code",
   "execution_count": 27,
   "metadata": {
    "collapsed": false
   },
   "outputs": [
    {
     "data": {
      "text/plain": [
       "{'content': ': 我怎麼覺得你的停損停利都是寫好玩的@@', 'score': 1, 'user': 'Jarlathus   '}"
      ]
     },
     "execution_count": 27,
     "metadata": {},
     "output_type": "execute_result"
    }
   ],
   "source": [
    "post[\"comments\"][0]"
   ]
  },
  {
   "cell_type": "code",
   "execution_count": null,
   "metadata": {
    "collapsed": true
   },
   "outputs": [],
   "source": []
  }
 ],
 "metadata": {
  "kernelspec": {
   "display_name": "Python 3",
   "language": "python",
   "name": "python3"
  },
  "language_info": {
   "codemirror_mode": {
    "name": "ipython",
    "version": 3
   },
   "file_extension": ".py",
   "mimetype": "text/x-python",
   "name": "python",
   "nbconvert_exporter": "python",
   "pygments_lexer": "ipython3",
   "version": "3.5.2"
  }
 },
 "nbformat": 4,
 "nbformat_minor": 1
}
